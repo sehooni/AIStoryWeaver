{
 "cells": [
  {
   "cell_type": "code",
   "execution_count": 1,
   "metadata": {},
   "outputs": [
    {
     "name": "stderr",
     "output_type": "stream",
     "text": [
      "/opt/homebrew/anaconda3/envs/AIStoryWeaver/lib/python3.10/site-packages/tqdm/auto.py:21: TqdmWarning: IProgress not found. Please update jupyter and ipywidgets. See https://ipywidgets.readthedocs.io/en/stable/user_install.html\n",
      "  from .autonotebook import tqdm as notebook_tqdm\n"
     ]
    },
    {
     "name": "stdout",
     "output_type": "stream",
     "text": [
      "Running on local URL:  http://127.0.0.1:7860\n",
      "\n",
      "To create a public link, set `share=True` in `launch()`.\n"
     ]
    },
    {
     "data": {
      "text/html": [
       "<div><iframe src=\"http://127.0.0.1:7860/\" width=\"100%\" height=\"500\" allow=\"autoplay; camera; microphone; clipboard-read; clipboard-write;\" frameborder=\"0\" allowfullscreen></iframe></div>"
      ],
      "text/plain": [
       "<IPython.core.display.HTML object>"
      ]
     },
     "metadata": {},
     "output_type": "display_data"
    },
    {
     "data": {
      "text/plain": []
     },
     "execution_count": 1,
     "metadata": {},
     "output_type": "execute_result"
    }
   ],
   "source": [
    "# gradio library를 가져온다. gr로 줄여서 칭한다.\n",
    "import gradio as gr\n",
    "\n",
    "# gradio 내부에서 사용할 함수다.\n",
    "def update(name): \n",
    "    return f\"Welcome to Gradio, {name}!\"\n",
    "\n",
    "with gr.Blocks() as iface:\n",
    "    gr.Markdown(\"게임 시나리오 제작을 도와드립니다. AIStoryWeaver!\")\n",
    "    with gr.Row():\n",
    "        inp = gr.Textbox(placeholder=\"원하는 게임 장르를 말해주세요\")\n",
    "        out = gr.Textbox()\n",
    "    btn = gr.Button(\"제출\")\n",
    "\n",
    "    # 버튼에 이벤트 리스너를 추가한다. \n",
    "    # 버튼 클릭시 update함수를 호출하고, inp에 입력된 문자열을 파라미터로 보낸다. 함수의 반환값은 out에 출력한다.\n",
    "    btn.click(fn=update, inputs=inp, outputs=out)\n",
    "\n",
    "iface.launch()"
   ]
  },
  {
   "cell_type": "code",
   "execution_count": 3,
   "metadata": {},
   "outputs": [
    {
     "name": "stdout",
     "output_type": "stream",
     "text": [
      "Running on local URL:  http://127.0.0.1:7862\n",
      "\n",
      "To create a public link, set `share=True` in `launch()`.\n"
     ]
    },
    {
     "data": {
      "text/html": [
       "<div><iframe src=\"http://127.0.0.1:7862/\" width=\"100%\" height=\"500\" allow=\"autoplay; camera; microphone; clipboard-read; clipboard-write;\" frameborder=\"0\" allowfullscreen></iframe></div>"
      ],
      "text/plain": [
       "<IPython.core.display.HTML object>"
      ]
     },
     "metadata": {},
     "output_type": "display_data"
    },
    {
     "data": {
      "text/plain": []
     },
     "execution_count": 3,
     "metadata": {},
     "output_type": "execute_result"
    }
   ],
   "source": [
    "from langchain.chat_models import ChatOpenAI\n",
    "from langchain.schema import AIMessage, HumanMessage, SystemMessage\n",
    "import gradio as gr\n",
    "import os\n",
    "# import openai\n",
    "\n",
    "os.environ[\"OPENAI_API_KEY\"] = \"sk-proj-CbYlmcDOmTXxS4PkR4D2T3BlbkFJP9H7MvzKhZP3OXWwBQCu\" \n",
    "# # 발급받은 API 키 설정\n",
    "# OPENAI_API_KEY = \"sk-proj-CbYlmcDOmTXxS4PkR4D2T3BlbkFJP9H7MvzKhZP3OXWwBQCu\"\n",
    "\n",
    "# # openai API 키 인증\n",
    "# openai.api_key = OPENAI_API_KEY\n",
    "\n",
    "# llm = ChatOpenAI(temperature=1.0, model='gpt-4.0-mini-2024-07-18')\n",
    "\n",
    "# langchain의 GPT-3.5 모델을 가져온다.\n",
    "# temperature는 챗봇 대답의 자유도를 의미한다.\n",
    "llm = ChatOpenAI(temperature=1.0, model='gpt-3.5-turbo')\n",
    "\n",
    "def response(message, history, additional_input_info):\n",
    "        history_langchain_format = []\n",
    "        # additional_input_info로 받은 시스템 프롬프트를 랭체인에게 전달할 메시지에 포함시킨다.\n",
    "        history_langchain_format.append(SystemMessage(content= additional_input_info))\n",
    "        for human, ai in history:\n",
    "                history_langchain_format.append(HumanMessage(content=human))\n",
    "                history_langchain_format.append(AIMessage(content=ai))\n",
    "        history_langchain_format.append(HumanMessage(content=message))\n",
    "        gpt_response = llm(history_langchain_format)\n",
    "        return gpt_response.content\n",
    "\n",
    "gr.ChatInterface(\n",
    "        fn=response,\n",
    "        textbox=gr.Textbox(placeholder=\"원하는 질문을 해주세요!\", container=False, scale=7),\n",
    "        # 채팅창의 크기를 조절한다.\n",
    "        chatbot=gr.Chatbot(height=100),\n",
    "        title=\"AIStoryWeaver!\",\n",
    "        description=\"게임 시나리오 제작을 도와드립니다.\",\n",
    "        theme=\"soft\",\n",
    "        examples=[[\"안뇽\"], [\"게임시나리오를 만들고 싶어!\"], [\"액션 RPG 게임을 만들거야! 스토리를 만들어줘\"]],\n",
    "        retry_btn=\"다시보내기 ↩\",\n",
    "        undo_btn=\"이전챗 삭제 ❌\",\n",
    "        clear_btn=\"전챗 삭제 💫\",\n",
    "        additional_inputs=[\n",
    "            gr.Textbox(\"\", label=\"System Prompt를 입력해주세요\", placeholder=\"I'm lovely chatbot.\")\n",
    "        ]\n",
    ").launch()"
   ]
  },
  {
   "cell_type": "code",
   "execution_count": null,
   "metadata": {},
   "outputs": [],
   "source": []
  }
 ],
 "metadata": {
  "kernelspec": {
   "display_name": "AIStoryWeaver",
   "language": "python",
   "name": "python3"
  },
  "language_info": {
   "codemirror_mode": {
    "name": "ipython",
    "version": 3
   },
   "file_extension": ".py",
   "mimetype": "text/x-python",
   "name": "python",
   "nbconvert_exporter": "python",
   "pygments_lexer": "ipython3",
   "version": "3.10.14"
  },
  "orig_nbformat": 4
 },
 "nbformat": 4,
 "nbformat_minor": 2
}
