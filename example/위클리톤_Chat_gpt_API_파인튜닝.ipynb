{
  "cells": [
    {
      "attachments": {},
      "cell_type": "markdown",
      "metadata": {
        "id": "02-g-adDIsS4"
      },
      "source": [
        "# 쿠키런 : 새로운 쿠키 창조 및 스토리 생성"
      ]
    },
    {
      "cell_type": "code",
      "execution_count": 13,
      "metadata": {
        "colab": {
          "base_uri": "https://localhost:8080/"
        },
        "id": "3eFqIcsAsmol",
        "outputId": "6843c5cc-4409-4159-e248-96e46b2f6c61"
      },
      "outputs": [
        {
          "name": "stdout",
          "output_type": "stream",
          "text": [
            "Requirement already satisfied: openai in /usr/local/lib/python3.10/dist-packages (1.37.0)\n",
            "Requirement already satisfied: anyio<5,>=3.5.0 in /usr/local/lib/python3.10/dist-packages (from openai) (3.7.1)\n",
            "Requirement already satisfied: distro<2,>=1.7.0 in /usr/lib/python3/dist-packages (from openai) (1.7.0)\n",
            "Requirement already satisfied: httpx<1,>=0.23.0 in /usr/local/lib/python3.10/dist-packages (from openai) (0.27.0)\n",
            "Requirement already satisfied: pydantic<3,>=1.9.0 in /usr/local/lib/python3.10/dist-packages (from openai) (2.8.2)\n",
            "Requirement already satisfied: sniffio in /usr/local/lib/python3.10/dist-packages (from openai) (1.3.1)\n",
            "Requirement already satisfied: tqdm>4 in /usr/local/lib/python3.10/dist-packages (from openai) (4.66.4)\n",
            "Requirement already satisfied: typing-extensions<5,>=4.7 in /usr/local/lib/python3.10/dist-packages (from openai) (4.12.2)\n",
            "Requirement already satisfied: idna>=2.8 in /usr/local/lib/python3.10/dist-packages (from anyio<5,>=3.5.0->openai) (3.7)\n",
            "Requirement already satisfied: exceptiongroup in /usr/local/lib/python3.10/dist-packages (from anyio<5,>=3.5.0->openai) (1.2.2)\n",
            "Requirement already satisfied: certifi in /usr/local/lib/python3.10/dist-packages (from httpx<1,>=0.23.0->openai) (2024.7.4)\n",
            "Requirement already satisfied: httpcore==1.* in /usr/local/lib/python3.10/dist-packages (from httpx<1,>=0.23.0->openai) (1.0.5)\n",
            "Requirement already satisfied: h11<0.15,>=0.13 in /usr/local/lib/python3.10/dist-packages (from httpcore==1.*->httpx<1,>=0.23.0->openai) (0.14.0)\n",
            "Requirement already satisfied: annotated-types>=0.4.0 in /usr/local/lib/python3.10/dist-packages (from pydantic<3,>=1.9.0->openai) (0.7.0)\n",
            "Requirement already satisfied: pydantic-core==2.20.1 in /usr/local/lib/python3.10/dist-packages (from pydantic<3,>=1.9.0->openai) (2.20.1)\n"
          ]
        }
      ],
      "source": [
        "!pip install openai"
      ]
    },
    {
      "attachments": {},
      "cell_type": "markdown",
      "metadata": {
        "id": "rto3uvZvIqAT"
      },
      "source": [
        "##데이터 준비"
      ]
    },
    {
      "cell_type": "code",
      "execution_count": 14,
      "metadata": {
        "colab": {
          "base_uri": "https://localhost:8080/"
        },
        "id": "BdnFDajgfCZq",
        "outputId": "073374de-3624-41e2-ba51-08e653c74f40"
      },
      "outputs": [
        {
          "name": "stdout",
          "output_type": "stream",
          "text": [
            "JSONL file saved at minimal_cookie_data.jsonl\n"
          ]
        }
      ],
      "source": [
        "import json\n",
        "\n",
        "# 데이터 준비\n",
        "data = [\n",
        "    {\n",
        "        \"prompt\": \"새로운 쿠키를 창조해 주세요. 쿠키의 이름, 특징, 목표, 스토리를 발단, 전개, 위기, 절정, 결말로 나누어 설명해 주세요.\\n\\n쿠키 이름: \",\n",
        "        \"completion\": \" 용감한 쿠키\\n쿠키 특징: 용감한 쿠키는 용감함을 상징하는 쿠키입니다. 그는 강력한 용기의 힘으로 동료들을 지키고 적들을 물리칩니다.\\n발단: 용감한 쿠키는 용기의 상징으로 태어났습니다.\\n전개: 그는 항상 용감하게 모험을 떠나며 어둠의 세력과 싸웠습니다.\\n위기: 어둠의 세력이 점점 강해져 용감한 쿠키와 그의 동료들을 위협했습니다.\\n절정: 용감한 쿠키는 최후의 전투에서 자신의 모든 용기를 발휘해 어둠의 세력을 물리쳤습니다.\\n결말: 용감한 쿠키는 쿠키왕국의 영웅으로 추앙받으며 평화를 지켰습니다.\"\n",
        "    },\n",
        "    {\n",
        "        \"prompt\": \"새로운 쿠키를 창조해 주세요. 쿠키의 이름, 특징, 목표, 스토리를 발단, 전개, 위기, 절정, 결말로 나누어 설명해 주세요.\\n\\n쿠키 이름: \",\n",
        "        \"completion\": \" 어둠마녀 쿠키\\n쿠키 특징: 어둠마녀 쿠키는 어둠의 마법을 사용하는 쿠키입니다. 그녀는 강력한 마법으로 적들을 혼란에 빠뜨립니다.\\n발단: 어둠마녀 쿠키는 어둠의 세력으로부터 태어났습니다.\\n전개: 그녀는 쿠키왕국을 어둠으로 물들이려 했습니다.\\n위기: 용감한 쿠키와 그의 동료들이 그녀의 계획을 저지하려 했습니다.\\n절정: 어둠마녀 쿠키는 최후의 결전을 벌였으나 결국 패배했습니다.\\n결말: 어둠마녀 쿠키는 사라졌고, 쿠키왕국은 다시 평화를 찾았습니다.\"\n",
        "    },\n",
        "    {\n",
        "        \"prompt\": \"새로운 쿠키를 창조해 주세요. 쿠키의 이름, 특징, 목표, 스토리를 발단, 전개, 위기, 절정, 결말로 나누어 설명해 주세요.\\n\\n쿠키 이름: \",\n",
        "        \"completion\": \" 탐험가 쿠키\\n쿠키 특징: 탐험가 쿠키는 모험을 사랑하는 쿠키입니다. 그는 새로운 장소를 발견하고 보물을 찾는 능력을 가지고 있습니다.\\n발단: 탐험가 쿠키는 모험을 사랑하는 마음으로 태어났습니다.\\n전개: 그는 항상 새로운 장소를 탐험하고 보물을 찾았습니다.\\n위기: 위험한 던전에서 강력한 적을 만났습니다.\\n절정: 탐험가 쿠키는 지혜와 용기로 적을 물리치고 보물을 손에 넣었습니다.\\n결말: 탐험가 쿠키는 쿠키왕국에 돌아와 그의 모험을 자랑스럽게 이야기했습니다.\"\n",
        "    },\n",
        "    {\n",
        "        \"prompt\": \"새로운 쿠키를 창조해 주세요. 쿠키의 이름, 특징, 목표, 스토리를 발단, 전개, 위기, 절정, 결말로 나누어 설명해 주세요.\\n\\n쿠키 이름: \",\n",
        "        \"completion\": \" 천사 쿠키\\n쿠키 특징: 천사 쿠키는 하늘에서 내려온 수호자입니다. 그는 치유의 힘으로 동료들을 돕습니다.\\n발단: 천사 쿠키는 하늘에서 내려왔습니다.\\n전개: 그는 치유의 힘으로 많은 쿠키들을 도왔습니다.\\n위기: 강력한 어둠의 마법으로 인해 치유의 힘이 약해졌습니다.\\n절정: 천사 쿠키는 자신의 모든 힘을 모아 치유의 마법을 발동시켰습니다.\\n결말: 천사 쿠키는 어둠을 물리치고 쿠키왕국에 평화를 가져왔습니다.\"\n",
        "    },\n",
        "    {\n",
        "        \"prompt\": \"새로운 쿠키를 창조해 주세요. 쿠키의 이름, 특징, 목표, 스토리를 발단, 전개, 위기, 절정, 결말로 나누어 설명해 주세요.\\n\\n쿠키 이름: \",\n",
        "        \"completion\": \" 해적 쿠키\\n쿠키 특징: 해적 쿠키는 바다를 누비는 용감한 쿠키입니다. 그는 보물을 찾고 해적을 물리치는 능력을 가지고 있습니다.\\n발단: 해적 쿠키는 바다에서 태어났습니다.\\n전개: 그는 항상 보물을 찾기 위해 바다를 항해했습니다.\\n위기: 다른 해적들과의 전투에서 위기를 맞았습니다.\\n절정: 해적 쿠키는 용맹하게 싸워 적 해적들을 물리쳤습니다.\\n결말: 해적 쿠키는 가장 큰 보물을 손에 넣고 바다의 전설이 되었습니다.\"\n",
        "    },\n",
        "    {\n",
        "        \"prompt\": \"새로운 쿠키를 창조해 주세요. 쿠키의 이름, 특징, 목표, 스토리를 발단, 전개, 위기, 절정, 결말로 나누어 설명해 주세요.\\n\\n쿠키 이름: \",\n",
        "        \"completion\": \" 마법사 쿠키\\n쿠키 특징: 마법사 쿠키는 강력한 마법을 사용하는 쿠키입니다. 그는 다양한 마법 주문으로 적들을 물리칩니다.\\n발단: 마법사 쿠키는 태어날 때부터 마법의 힘을 지니고 있었습니다.\\n전개: 그는 마법의 힘을 연마하여 강력한 마법사가 되었습니다.\\n위기: 강력한 어둠의 마법사가 나타나 쿠키왕국을 위협했습니다.\\n절정: 마법사 쿠키는 최후의 전투에서 모든 마법을 사용해 어둠의 마법사를 물리쳤습니다.\\n결말: 마법사 쿠키는 쿠키왕국의 평화를 지키며 마법을 가르쳤습니다.\"\n",
        "    },\n",
        "    {\n",
        "        \"prompt\": \"새로운 쿠키를 창조해 주세요. 쿠키의 이름, 특징, 목표, 스토리를 발단, 전개, 위기, 절정, 결말로 나누어 설명해 주세요.\\n\\n쿠키 이름: \",\n",
        "        \"completion\": \" 전사 쿠키\\n쿠키 특징: 전사 쿠키는 강력한 힘과 무술을 자랑하는 쿠키입니다. 그는 강력한 무기로 적들과 싸웁니다.\\n발단: 전사 쿠키는 어릴 적부터 전사의 자질을 가지고 있었습니다.\\n전개: 그는 전사가 되기 위해 끊임없이 훈련했습니다.\\n위기: 강력한 적들이 쿠키왕국을 위협하며 전사 쿠키에게 도전장을 내밀었습니다.\\n절정: 전사 쿠키는 모든 힘을 다해 적들을 물리쳤습니다.\\n결말: 전사 쿠키는 쿠키왕국의 수호자로 인정받았습니다.\"\n",
        "    },\n",
        "    {\n",
        "        \"prompt\": \"새로운 쿠키를 창조해 주세요. 쿠키의 이름, 특징, 목표, 스토리를 발단, 전개, 위기, 절정, 결말로 나누어 설명해 주세요.\\n\\n쿠키 이름: \",\n",
        "        \"completion\": \" 요정 쿠키\\n쿠키 특징: 요정 쿠키는 자연의 힘을 사용하는 쿠키입니다. 그는 자연의 에너지를 이용해 동료들을 치유하고 적들을 무력화시킵니다.\\n발단: 요정 쿠키는 자연 속에서 태어났습니다.\\n전개: 그는 자연의 힘을 배워 동료들을 치유하고 보호했습니다.\\n위기: 어둠의 세력이 자연을 침범해 요정 쿠키의 힘이 약해졌습니다.\\n절정: 요정 쿠키는 자연의 정수를 모아 강력한 치유 마법을 사용했습니다.\\n결말: 요정 쿠키는 자연의 힘으로 어둠을 물리치고 쿠키왕국에 평화를 가져왔습니다.\"\n",
        "    }\n",
        "]\n",
        "\n",
        "# JSON Lines 파일로 저장\n",
        "jsonl_file_path = \"minimal_cookie_data.jsonl\"\n",
        "with open(jsonl_file_path, 'w', encoding='utf-8') as f:\n",
        "    for entry in data:\n",
        "        json.dump(entry, f, ensure_ascii=False)\n",
        "        f.write(\"\\n\")\n",
        "\n",
        "print(f\"JSONL file saved at {jsonl_file_path}\")"
      ]
    },
    {
      "cell_type": "code",
      "execution_count": 15,
      "metadata": {
        "colab": {
          "base_uri": "https://localhost:8080/"
        },
        "id": "JT8Gg805wviw",
        "outputId": "bdaccd6e-1ca5-4b4b-d598-26200b25fcf4"
      },
      "outputs": [
        {
          "name": "stdout",
          "output_type": "stream",
          "text": [
            "{\"prompt\": \"새로운 쿠키를 창조해 주세요. 쿠키의 이름, 특징, 목표, 스토리를 발단, 전개, 위기, 절정, 결말로 나누어 설명해 주세요.\\n\\n쿠키 이름: \", \"completion\": \" 용감한 쿠키\\n쿠키 특징: 용감한 쿠키는 용감함을 상징하는 쿠키입니다. 그는 강력한 용기의 힘으로 동료들을 지키고 적들을 물리칩니다.\\n발단: 용감한 쿠키는 용기의 상징으로 태어났습니다.\\n전개: 그는 항상 용감하게 모험을 떠나며 어둠의 세력과 싸웠습니다.\\n위기: 어둠의 세력이 점점 강해져 용감한 쿠키와 그의 동료들을 위협했습니다.\\n절정: 용감한 쿠키는 최후의 전투에서 자신의 모든 용기를 발휘해 어둠의 세력을 물리쳤습니다.\\n결말: 용감한 쿠키는 쿠키왕국의 영웅으로 추앙받으며 평화를 지켰습니다.\"}\n",
            "\n",
            "{\"prompt\": \"새로운 쿠키를 창조해 주세요. 쿠키의 이름, 특징, 목표, 스토리를 발단, 전개, 위기, 절정, 결말로 나누어 설명해 주세요.\\n\\n쿠키 이름: \", \"completion\": \" 어둠마녀 쿠키\\n쿠키 특징: 어둠마녀 쿠키는 어둠의 마법을 사용하는 쿠키입니다. 그녀는 강력한 마법으로 적들을 혼란에 빠뜨립니다.\\n발단: 어둠마녀 쿠키는 어둠의 세력으로부터 태어났습니다.\\n전개: 그녀는 쿠키왕국을 어둠으로 물들이려 했습니다.\\n위기: 용감한 쿠키와 그의 동료들이 그녀의 계획을 저지하려 했습니다.\\n절정: 어둠마녀 쿠키는 최후의 결전을 벌였으나 결국 패배했습니다.\\n결말: 어둠마녀 쿠키는 사라졌고, 쿠키왕국은 다시 평화를 찾았습니다.\"}\n",
            "\n",
            "{\"prompt\": \"새로운 쿠키를 창조해 주세요. 쿠키의 이름, 특징, 목표, 스토리를 발단, 전개, 위기, 절정, 결말로 나누어 설명해 주세요.\\n\\n쿠키 이름: \", \"completion\": \" 탐험가 쿠키\\n쿠키 특징: 탐험가 쿠키는 모험을 사랑하는 쿠키입니다. 그는 새로운 장소를 발견하고 보물을 찾는 능력을 가지고 있습니다.\\n발단: 탐험가 쿠키는 모험을 사랑하는 마음으로 태어났습니다.\\n전개: 그는 항상 새로운 장소를 탐험하고 보물을 찾았습니다.\\n위기: 위험한 던전에서 강력한 적을 만났습니다.\\n절정: 탐험가 쿠키는 지혜와 용기로 적을 물리치고 보물을 손에 넣었습니다.\\n결말: 탐험가 쿠키는 쿠키왕국에 돌아와 그의 모험을 자랑스럽게 이야기했습니다.\"}\n",
            "\n",
            "{\"prompt\": \"새로운 쿠키를 창조해 주세요. 쿠키의 이름, 특징, 목표, 스토리를 발단, 전개, 위기, 절정, 결말로 나누어 설명해 주세요.\\n\\n쿠키 이름: \", \"completion\": \" 천사 쿠키\\n쿠키 특징: 천사 쿠키는 하늘에서 내려온 수호자입니다. 그는 치유의 힘으로 동료들을 돕습니다.\\n발단: 천사 쿠키는 하늘에서 내려왔습니다.\\n전개: 그는 치유의 힘으로 많은 쿠키들을 도왔습니다.\\n위기: 강력한 어둠의 마법으로 인해 치유의 힘이 약해졌습니다.\\n절정: 천사 쿠키는 자신의 모든 힘을 모아 치유의 마법을 발동시켰습니다.\\n결말: 천사 쿠키는 어둠을 물리치고 쿠키왕국에 평화를 가져왔습니다.\"}\n",
            "\n",
            "{\"prompt\": \"새로운 쿠키를 창조해 주세요. 쿠키의 이름, 특징, 목표, 스토리를 발단, 전개, 위기, 절정, 결말로 나누어 설명해 주세요.\\n\\n쿠키 이름: \", \"completion\": \" 해적 쿠키\\n쿠키 특징: 해적 쿠키는 바다를 누비는 용감한 쿠키입니다. 그는 보물을 찾고 해적을 물리치는 능력을 가지고 있습니다.\\n발단: 해적 쿠키는 바다에서 태어났습니다.\\n전개: 그는 항상 보물을 찾기 위해 바다를 항해했습니다.\\n위기: 다른 해적들과의 전투에서 위기를 맞았습니다.\\n절정: 해적 쿠키는 용맹하게 싸워 적 해적들을 물리쳤습니다.\\n결말: 해적 쿠키는 가장 큰 보물을 손에 넣고 바다의 전설이 되었습니다.\"}\n",
            "\n",
            "{\"prompt\": \"새로운 쿠키를 창조해 주세요. 쿠키의 이름, 특징, 목표, 스토리를 발단, 전개, 위기, 절정, 결말로 나누어 설명해 주세요.\\n\\n쿠키 이름: \", \"completion\": \" 마법사 쿠키\\n쿠키 특징: 마법사 쿠키는 강력한 마법을 사용하는 쿠키입니다. 그는 다양한 마법 주문으로 적들을 물리칩니다.\\n발단: 마법사 쿠키는 태어날 때부터 마법의 힘을 지니고 있었습니다.\\n전개: 그는 마법의 힘을 연마하여 강력한 마법사가 되었습니다.\\n위기: 강력한 어둠의 마법사가 나타나 쿠키왕국을 위협했습니다.\\n절정: 마법사 쿠키는 최후의 전투에서 모든 마법을 사용해 어둠의 마법사를 물리쳤습니다.\\n결말: 마법사 쿠키는 쿠키왕국의 평화를 지키며 마법을 가르쳤습니다.\"}\n",
            "\n",
            "{\"prompt\": \"새로운 쿠키를 창조해 주세요. 쿠키의 이름, 특징, 목표, 스토리를 발단, 전개, 위기, 절정, 결말로 나누어 설명해 주세요.\\n\\n쿠키 이름: \", \"completion\": \" 전사 쿠키\\n쿠키 특징: 전사 쿠키는 강력한 힘과 무술을 자랑하는 쿠키입니다. 그는 강력한 무기로 적들과 싸웁니다.\\n발단: 전사 쿠키는 어릴 적부터 전사의 자질을 가지고 있었습니다.\\n전개: 그는 전사가 되기 위해 끊임없이 훈련했습니다.\\n위기: 강력한 적들이 쿠키왕국을 위협하며 전사 쿠키에게 도전장을 내밀었습니다.\\n절정: 전사 쿠키는 모든 힘을 다해 적들을 물리쳤습니다.\\n결말: 전사 쿠키는 쿠키왕국의 수호자로 인정받았습니다.\"}\n",
            "\n",
            "{\"prompt\": \"새로운 쿠키를 창조해 주세요. 쿠키의 이름, 특징, 목표, 스토리를 발단, 전개, 위기, 절정, 결말로 나누어 설명해 주세요.\\n\\n쿠키 이름: \", \"completion\": \" 요정 쿠키\\n쿠키 특징: 요정 쿠키는 자연의 힘을 사용하는 쿠키입니다. 그는 자연의 에너지를 이용해 동료들을 치유하고 적들을 무력화시킵니다.\\n발단: 요정 쿠키는 자연 속에서 태어났습니다.\\n전개: 그는 자연의 힘을 배워 동료들을 치유하고 보호했습니다.\\n위기: 어둠의 세력이 자연을 침범해 요정 쿠키의 힘이 약해졌습니다.\\n절정: 요정 쿠키는 자연의 정수를 모아 강력한 치유 마법을 사용했습니다.\\n결말: 요정 쿠키는 자연의 힘으로 어둠을 물리치고 쿠키왕국에 평화를 가져왔습니다.\"}\n",
            "\n"
          ]
        }
      ],
      "source": [
        "#저장 파일 읽어오기\n",
        "\n",
        "path = \"/content/minimal_cookie_data.jsonl\"\n",
        "with open(path, \"r\") as json_file:\n",
        "    for line in json_file:\n",
        "        print(line)"
      ]
    },
    {
      "cell_type": "code",
      "execution_count": 16,
      "metadata": {
        "colab": {
          "base_uri": "https://localhost:8080/"
        },
        "id": "NYXG3U4jg598",
        "outputId": "7f5c6dd2-4db9-4450-c007-f24524debe1b"
      },
      "outputs": [
        {
          "name": "stdout",
          "output_type": "stream",
          "text": [
            "\n",
            "⠁\u001b[1m\u001b[2m\u001b[0m \u001b[1m\u001b[2mFinding files                                                                 \u001b[0m\u001b[1A\r\u001b[2K\u001b[1B\r\u001b[2K\u001b[1A\n",
            "⠁\u001b[1m\u001b[2m\u001b[0m \u001b[1m\u001b[2mFinding files                                                                 \u001b[0m\u001b[1A\r\u001b[2K\u001b[1B\r\u001b[2K\u001b[1A\n",
            "\u001b[1m\u001b[2mAnalyzing\u001b[0m \u001b[1m\u001b[2mFinding files                                                         \u001b[0m\n",
            "████████████████████████████████████████████████████████████████████████████ 0/0\u001b[2A\r\u001b[2K\u001b[1B\r\u001b[2K\u001b[1B\r\u001b[2K\u001b[2AProcessed 0 files and found 0 matches\n"
          ]
        }
      ],
      "source": [
        "!openai migrate"
      ]
    },
    {
      "cell_type": "code",
      "execution_count": 17,
      "metadata": {
        "id": "1e6AigihJfbw"
      },
      "outputs": [],
      "source": [
        "import openai\n",
        "\n",
        "api_key = \"...\"\n",
        "client = openai.OpenAI(api_key=api_key)"
      ]
    },
    {
      "cell_type": "code",
      "execution_count": 18,
      "metadata": {
        "colab": {
          "base_uri": "https://localhost:8080/"
        },
        "id": "yx0TLdzHf0Mi",
        "outputId": "dc8bc321-2669-477f-da76-9f4483cb8c54"
      },
      "outputs": [
        {
          "name": "stdout",
          "output_type": "stream",
          "text": [
            "file-oDbJyJaOUQyHFcs6PlMIFObQ\n"
          ]
        }
      ],
      "source": [
        "# 파일 업로드\n",
        "response = client.files.create( # files 속성 사용\n",
        "    file=open(path, \"rb\"),\n",
        "    purpose='fine-tune'\n",
        ")\n",
        "\n",
        "# 업로드된 파일 ID 출력\n",
        "print(response.id) # .id 속성 사용"
      ]
    },
    {
      "cell_type": "code",
      "execution_count": 22,
      "metadata": {
        "colab": {
          "base_uri": "https://localhost:8080/"
        },
        "id": "n00ik5fkVOnw",
        "outputId": "21ce219e-0b27-485a-844b-b0fdb3d55398"
      },
      "outputs": [
        {
          "data": {
            "text/plain": [
              "FineTuningJob(id='ftjob-qIUbmZpVkAOUjrPH3zt5FuH7', created_at=1721908214, error=Error(code=None, message=None, param=None), fine_tuned_model=None, finished_at=None, hyperparameters=Hyperparameters(n_epochs='auto', batch_size='auto', learning_rate_multiplier='auto'), model='gpt-3.5-turbo-0125', object='fine_tuning.job', organization_id='org-GOnBT7xp4I3EXaXeG7LZlTFI', result_files=[], seed=831729956, status='validating_files', trained_tokens=None, training_file='file-oDbJyJaOUQyHFcs6PlMIFObQ', validation_file=None, estimated_finish=None, integrations=[], user_provided_suffix=None)"
            ]
          },
          "execution_count": 22,
          "metadata": {},
          "output_type": "execute_result"
        }
      ],
      "source": [
        "# 파인튜닝을 시작\n",
        "# https://platform.openai.com/docs/api-reference/fine-tuning/create\n",
        "\n",
        "client.fine_tuning.jobs.create(\n",
        "    # 아래 training_file 값을 위의 실행 결과에서 받은 id 값으로 교체\n",
        "    training_file=\"file-oDbJyJaOUQyHFcs6PlMIFObQ\",\n",
        "    model=\"gpt-3.5-turbo\"\n",
        ")"
      ]
    },
    {
      "cell_type": "code",
      "execution_count": 20,
      "metadata": {
        "colab": {
          "base_uri": "https://localhost:8080/"
        },
        "id": "vueAUgqen2iS",
        "outputId": "a0d3bd30-e9d9-40c8-b81e-b6ff9876c362"
      },
      "outputs": [
        {
          "data": {
            "text/plain": [
              "SyncCursorPage[FineTuningJob](data=[FineTuningJob(id='ftjob-cz8vkGiY19tpPNCYI7NJYNa7', created_at=1721908200, error=Error(code=None, message=None, param=None), fine_tuned_model=None, finished_at=None, hyperparameters=Hyperparameters(n_epochs='auto', batch_size='auto', learning_rate_multiplier='auto'), model='gpt-3.5-turbo-0125', object='fine_tuning.job', organization_id='org-GOnBT7xp4I3EXaXeG7LZlTFI', result_files=[], seed=1566542180, status='validating_files', trained_tokens=None, training_file='file-OOAKTRG8uYUx5W7V2T6zZDRi', validation_file=None, estimated_finish=None, integrations=[], user_provided_suffix=None), FineTuningJob(id='ftjob-lvRIKEfefp5hrLNNlVpMd8mn', created_at=1721906889, error=Error(code='invalid_training_file', message='The job failed due to an invalid training file. Invalid file format. Input file file-OOAKTRG8uYUx5W7V2T6zZDRi is in the prompt-completion format, but the specified model gpt-3.5-turbo-0125 is a chat model and requires chat-formatted data. See https://platform.openai.com/docs/guides/fine-tuning/preparing-your-dataset for details.', param='training_file'), fine_tuned_model=None, finished_at=None, hyperparameters=Hyperparameters(n_epochs='auto', batch_size='auto', learning_rate_multiplier='auto'), model='gpt-3.5-turbo-0125', object='fine_tuning.job', organization_id='org-GOnBT7xp4I3EXaXeG7LZlTFI', result_files=[], seed=665486846, status='failed', trained_tokens=None, training_file='file-OOAKTRG8uYUx5W7V2T6zZDRi', validation_file=None, estimated_finish=None, integrations=[], user_provided_suffix=None), FineTuningJob(id='ftjob-6QgXO0269KkDMRP2iQyZCyfh', created_at=1721881002, error=Error(code='invalid_training_file', message='The job failed due to an invalid training file. Invalid file format. Input file file-zTRdOF7Pa04h1Q7TGNx9wovK is in the prompt-completion format, but the specified model gpt-3.5-turbo-0125 is a chat model and requires chat-formatted data. See https://platform.openai.com/docs/guides/fine-tuning/preparing-your-dataset for details.', param='training_file'), fine_tuned_model=None, finished_at=None, hyperparameters=Hyperparameters(n_epochs='auto', batch_size='auto', learning_rate_multiplier='auto'), model='gpt-3.5-turbo-0125', object='fine_tuning.job', organization_id='org-GOnBT7xp4I3EXaXeG7LZlTFI', result_files=[], seed=1766646674, status='failed', trained_tokens=None, training_file='file-zTRdOF7Pa04h1Q7TGNx9wovK', validation_file=None, estimated_finish=None, integrations=[], user_provided_suffix=None), FineTuningJob(id='ftjob-PRUb51MP2qj5AP1YPh0qEIdu', created_at=1721823752, error=Error(code='invalid_training_file', message='The job failed due to an invalid training file. Invalid file format. Input file file-4UmiL1BQYd48sh4XrgVZ0qwl is in the prompt-completion format, but the specified model gpt-3.5-turbo-0125 is a chat model and requires chat-formatted data. See https://platform.openai.com/docs/guides/fine-tuning/preparing-your-dataset for details.', param='training_file'), fine_tuned_model=None, finished_at=None, hyperparameters=Hyperparameters(n_epochs='auto', batch_size='auto', learning_rate_multiplier='auto'), model='gpt-3.5-turbo-0125', object='fine_tuning.job', organization_id='org-GOnBT7xp4I3EXaXeG7LZlTFI', result_files=[], seed=299355836, status='failed', trained_tokens=None, training_file='file-4UmiL1BQYd48sh4XrgVZ0qwl', validation_file=None, estimated_finish=None, integrations=[], user_provided_suffix=None), FineTuningJob(id='ftjob-6BmFv8bl9hdUHWUZG7ethSRW', created_at=1721823145, error=Error(code='invalid_training_file', message='The job failed due to an invalid training file. Invalid file format. Input file file-0x0Dc8OI1izZoluOOhLFQq29 is in the prompt-completion format, but the specified model gpt-3.5-turbo-0125 is a chat model and requires chat-formatted data. See https://platform.openai.com/docs/guides/fine-tuning/preparing-your-dataset for details.', param='training_file'), fine_tuned_model=None, finished_at=None, hyperparameters=Hyperparameters(n_epochs='auto', batch_size='auto', learning_rate_multiplier='auto'), model='gpt-3.5-turbo-0125', object='fine_tuning.job', organization_id='org-GOnBT7xp4I3EXaXeG7LZlTFI', result_files=[], seed=1175389908, status='failed', trained_tokens=None, training_file='file-0x0Dc8OI1izZoluOOhLFQq29', validation_file=None, estimated_finish=None, integrations=[], user_provided_suffix=None), FineTuningJob(id='ftjob-QHnOTZn1I7pt3j24OaTyfhni', created_at=1721821492, error=Error(code='invalid_training_file', message='The job failed due to an invalid training file. Invalid file format. Input file file-0x0Dc8OI1izZoluOOhLFQq29 is in the prompt-completion format, but the specified model gpt-3.5-turbo-0125 is a chat model and requires chat-formatted data. See https://platform.openai.com/docs/guides/fine-tuning/preparing-your-dataset for details.', param='training_file'), fine_tuned_model=None, finished_at=None, hyperparameters=Hyperparameters(n_epochs='auto', batch_size='auto', learning_rate_multiplier='auto'), model='gpt-3.5-turbo-0125', object='fine_tuning.job', organization_id='org-GOnBT7xp4I3EXaXeG7LZlTFI', result_files=[], seed=1674857805, status='failed', trained_tokens=None, training_file='file-0x0Dc8OI1izZoluOOhLFQq29', validation_file=None, estimated_finish=None, integrations=[], user_provided_suffix=None), FineTuningJob(id='ftjob-SVyPUT7mOTyIja8IAnH4TAq2', created_at=1721819647, error=Error(code='invalid_training_file', message='The job failed due to an invalid training file. Invalid file format. Input file file-tCRSFhYvURNV5m0WrWscR2hR is in the prompt-completion format, but the specified model gpt-3.5-turbo-0125 is a chat model and requires chat-formatted data. See https://platform.openai.com/docs/guides/fine-tuning/preparing-your-dataset for details.', param='training_file'), fine_tuned_model=None, finished_at=None, hyperparameters=None, model='gpt-3.5-turbo-0125', object='fine_tuning.job', organization_id='org-GOnBT7xp4I3EXaXeG7LZlTFI', result_files=[], seed=1162947922, status='failed', trained_tokens=None, training_file='file-tCRSFhYvURNV5m0WrWscR2hR', validation_file=None, estimated_finish=None, integrations=[], user_provided_suffix='TestModel'), FineTuningJob(id='ftjob-jkqbdnbi0FTvlheFwB3ibkxn', created_at=1721815115, error=Error(code='invalid_training_file', message='The job failed due to an invalid training file. Invalid file format. Input file file-gt2bkCctGh9uadVmMjqEg2fh is in the prompt-completion format, but the specified model gpt-3.5-turbo-1106 is a chat model and requires chat-formatted data. See https://platform.openai.com/docs/guides/fine-tuning/preparing-your-dataset for details.', param='training_file'), fine_tuned_model=None, finished_at=None, hyperparameters=None, model='gpt-3.5-turbo-1106', object='fine_tuning.job', organization_id='org-GOnBT7xp4I3EXaXeG7LZlTFI', result_files=[], seed=1204153035, status='failed', trained_tokens=None, training_file='file-gt2bkCctGh9uadVmMjqEg2fh', validation_file=None, estimated_finish=None, integrations=[], user_provided_suffix='TestModel')], object='list', has_more=False)"
            ]
          },
          "execution_count": 20,
          "metadata": {},
          "output_type": "execute_result"
        }
      ],
      "source": [
        "# 파인튜닝 작업 목록 및 상태 확인\n",
        "client.fine_tuning.jobs.list(limit=10)"
      ]
    },
    {
      "cell_type": "code",
      "execution_count": 23,
      "metadata": {
        "colab": {
          "base_uri": "https://localhost:8080/"
        },
        "id": "sBlF39kBVOie",
        "outputId": "f778d178-29ef-494d-aa88-13ac208f0f32"
      },
      "outputs": [
        {
          "name": "stdout",
          "output_type": "stream",
          "text": [
            "한남쿠키: 한남동에서 온 고급스러운 쿠키. 바쁜 도심 속에서도 눈에 띄는 색감과 섬세한 디자인으로 사람들의 마음을 사로잡는다. 고급 재료로 만들어져 부드러운 맛과 향이 일품이다. 하지만 자신의 고급스러운 외모와는 달리 겉은 단단한 모습을 보여주고, 속은 따뜻한 마음을 담고 있다. 한남쿠키는 항상 자신의 외모에 대해 고민하지만, 사람들이 한번 먹고 나면 그 안에 담긴 따뜻함을 느끼며 사랑하게 된다.\n",
            "\n",
            "루시앙쿠키: 어두운 암흑 속에서 태어난 신비로운 쿠키. 그녀는 달달한 맛 대신 쌉싸름한 향과 맛을 자랑한다. 늘 고독에 갇혀있는 듯한 느낌을 주지만, 그녀는 자신이 지니고 있는 힘을 자랑하며 누구에게도 복종하지 않는다. 그녀의 쿠키는 먹는 순간 불어나는 신비로움과 힘이 사람들을 매료시킨다. 루시앙쿠키는 자신의 단단한 외피와 힘찬 내면을 고집하며, 늘 자신을 지키는 강인한 모습을 보여준다.\n"
          ]
        }
      ],
      "source": [
        "# 기본 모델 사용\n",
        "\n",
        "completion = client.chat.completions.create(\n",
        "  model=\"gpt-3.5-turbo\",\n",
        "  messages=[\n",
        "    {\"role\": \"user\", \"content\": \"새로운 쿠키를 창조하고, 그들의 스토리를 상세히 설명해줘\"}\n",
        "  ]\n",
        ")\n",
        "\n",
        "print(completion.choices[0].message.content)"
      ]
    },
    {
      "cell_type": "code",
      "execution_count": 21,
      "metadata": {
        "id": "Yl4oVIm8K0RU"
      },
      "outputs": [],
      "source": []
    },
    {
      "cell_type": "code",
      "execution_count": 21,
      "metadata": {
        "id": "KpPGo-xtplAt"
      },
      "outputs": [],
      "source": []
    },
    {
      "cell_type": "code",
      "execution_count": 21,
      "metadata": {
        "id": "vRb-5Juepk83"
      },
      "outputs": [],
      "source": []
    }
  ],
  "metadata": {
    "accelerator": "GPU",
    "colab": {
      "gpuType": "T4",
      "provenance": []
    },
    "kernelspec": {
      "display_name": "Python 3",
      "name": "python3"
    },
    "language_info": {
      "name": "python"
    }
  },
  "nbformat": 4,
  "nbformat_minor": 0
}
